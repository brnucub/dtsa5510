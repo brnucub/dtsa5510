{
  "nbformat": 4,
  "nbformat_minor": 0,
  "metadata": {
    "colab": {
      "provenance": [],
      "machine_shape": "hm"
    },
    "kernelspec": {
      "name": "python3",
      "display_name": "Python 3"
    },
    "language_info": {
      "name": "python"
    },
    "gpuClass": "standard"
  },
  "cells": [
    {
      "cell_type": "markdown",
      "source": [
        "In this notebook we will apply two different unsupervised learning methods to an image classification problem and compare the results, namely KMeans and Mean Shift. We will only use the RGB values of the images as features.\n",
        "\n",
        "The source for the data is the Intel Image Classification dataset from Kaggle: https://www.kaggle.com/datasets/puneet6060/intel-image-classification.\n",
        "Due to hardware constraints I will use only the training dataset and split it into training and testing, resize all images to 100x100, and only use 4 classes. Also note that running this notebook requires at least 16GB of RAM. You should also change the directories below to the ones where you extracted the image files.\n",
        "\n",
        "Github: https://github.com/brnucub/dtsa5510"
      ],
      "metadata": {
        "id": "m6iKGMVdr41-"
      }
    },
    {
      "cell_type": "markdown",
      "source": [
        "## Importing and preparing the data"
      ],
      "metadata": {
        "id": "cP_RQhQ6sS8h"
      }
    },
    {
      "cell_type": "code",
      "source": [
        "from google.colab import drive \n",
        "drive.mount('/content/drive')"
      ],
      "metadata": {
        "colab": {
          "base_uri": "https://localhost:8080/"
        },
        "id": "IqHC58_6sP7v",
        "outputId": "513603ed-02b8-4728-896b-24688dba55fc"
      },
      "execution_count": 1,
      "outputs": [
        {
          "output_type": "stream",
          "name": "stdout",
          "text": [
            "Mounted at /content/drive\n"
          ]
        }
      ]
    },
    {
      "cell_type": "code",
      "source": [
        "pip install scikit-learn-extra"
      ],
      "metadata": {
        "colab": {
          "base_uri": "https://localhost:8080/"
        },
        "id": "YYzGXvtBRBEf",
        "outputId": "94744596-ec1c-47d5-988b-d4bde4e00a23"
      },
      "execution_count": 45,
      "outputs": [
        {
          "output_type": "stream",
          "name": "stdout",
          "text": [
            "Looking in indexes: https://pypi.org/simple, https://us-python.pkg.dev/colab-wheels/public/simple/\n",
            "Collecting scikit-learn-extra\n",
            "  Downloading scikit_learn_extra-0.2.0-cp38-cp38-manylinux2010_x86_64.whl (1.9 MB)\n",
            "\u001b[2K     \u001b[90m━━━━━━━━━━━━━━━━━━━━━━━━━━━━━━━━━━━━━━━━\u001b[0m \u001b[32m1.9/1.9 MB\u001b[0m \u001b[31m46.9 MB/s\u001b[0m eta \u001b[36m0:00:00\u001b[0m\n",
            "\u001b[?25hRequirement already satisfied: scipy>=0.19.1 in /usr/local/lib/python3.8/dist-packages (from scikit-learn-extra) (1.10.1)\n",
            "Requirement already satisfied: numpy>=1.13.3 in /usr/local/lib/python3.8/dist-packages (from scikit-learn-extra) (1.22.4)\n",
            "Requirement already satisfied: scikit-learn>=0.23.0 in /usr/local/lib/python3.8/dist-packages (from scikit-learn-extra) (1.2.1)\n",
            "Requirement already satisfied: threadpoolctl>=2.0.0 in /usr/local/lib/python3.8/dist-packages (from scikit-learn>=0.23.0->scikit-learn-extra) (3.1.0)\n",
            "Requirement already satisfied: joblib>=1.1.1 in /usr/local/lib/python3.8/dist-packages (from scikit-learn>=0.23.0->scikit-learn-extra) (1.2.0)\n",
            "Installing collected packages: scikit-learn-extra\n",
            "Successfully installed scikit-learn-extra-0.2.0\n"
          ]
        }
      ]
    },
    {
      "cell_type": "code",
      "source": [
        "import os\n",
        "import itertools\n",
        "import numpy as np\n",
        "import matplotlib.pyplot as plt\n",
        "\n",
        "from skimage.io import imread\n",
        "from sklearn.utils import shuffle\n",
        "from sklearn.cluster import KMeans\n",
        "from sklearn_extra.cluster import KMedoids\n",
        "from sklearn.metrics import confusion_matrix\n",
        "from skimage.transform import resize\n",
        "from collections import Counter\n"
      ],
      "metadata": {
        "id": "5V0rHLPU0Jh2"
      },
      "execution_count": 53,
      "outputs": []
    },
    {
      "cell_type": "code",
      "source": [
        "labels = os.listdir('drive/MyDrive/datasets/seg_train/seg_train')\n",
        "print(labels)"
      ],
      "metadata": {
        "colab": {
          "base_uri": "https://localhost:8080/"
        },
        "id": "P-gxVCIf0Upo",
        "outputId": "a45851a4-4721-48b0-8fce-dcbbdd7cfa5a"
      },
      "execution_count": 3,
      "outputs": [
        {
          "output_type": "stream",
          "name": "stdout",
          "text": [
            "['buildings', 'forest', 'street', 'sea', 'glacier', 'mountain']\n"
          ]
        }
      ]
    },
    {
      "cell_type": "code",
      "source": [
        "train_dir = 'drive/MyDrive/datasets/seg_train/seg_train/'"
      ],
      "metadata": {
        "id": "YgAKS1iJv0Sl"
      },
      "execution_count": 4,
      "outputs": []
    },
    {
      "cell_type": "code",
      "source": [
        "def get_images_in(dir, label):\n",
        "  fdir = dir + label\n",
        "  all_files = os.listdir(fdir)\n",
        "  image_datas = []\n",
        "\n",
        "  for filename in all_files:\n",
        "    img = imread(os.path.join(fdir, filename))\n",
        "    img = resize(img, (100, 100)) \n",
        "    image_datas.append(img)\n",
        "\n",
        "  return image_datas\n",
        "\n"
      ],
      "metadata": {
        "id": "UG5mQ5w11PaF"
      },
      "execution_count": 5,
      "outputs": []
    },
    {
      "cell_type": "code",
      "source": [
        "street_imgs = get_images_in(train_dir, 'street')\n",
        "sea_imgs = get_images_in(train_dir, 'sea')\n",
        "glacier_imgs = get_images_in(train_dir, 'glacier')\n",
        "mountain_imgs = get_images_in(train_dir, 'mountain')"
      ],
      "metadata": {
        "id": "_jC5QgZPATcN"
      },
      "execution_count": 6,
      "outputs": []
    },
    {
      "cell_type": "code",
      "source": [
        "label_map = dict()\n",
        "id_map = dict()\n",
        "for i in range(len(labels)):\n",
        "  label_map[labels[i]] = i\n",
        "  id_map[i] = labels[i]"
      ],
      "metadata": {
        "id": "XbK35Y-rA8Me"
      },
      "execution_count": 7,
      "outputs": []
    },
    {
      "cell_type": "code",
      "source": [
        "all_data = []\n",
        "all_labels = []\n",
        "\n",
        "for img in street_imgs:\n",
        "  all_data.append(img)\n",
        "  all_labels.append(label_map['street'])\n",
        "\n",
        "for img in sea_imgs:\n",
        "  all_data.append(img)\n",
        "  all_labels.append(label_map['sea'])\n",
        "\n",
        "for img in glacier_imgs:\n",
        "  all_data.append(img)\n",
        "  all_labels.append(label_map['glacier'])\n",
        "\n",
        "for img in mountain_imgs:\n",
        "  all_data.append(img)\n",
        "  all_labels.append(label_map['mountain'])"
      ],
      "metadata": {
        "id": "OtcgQz3eCvaU"
      },
      "execution_count": 8,
      "outputs": []
    },
    {
      "cell_type": "code",
      "source": [
        "def unroll_image(img):\n",
        "  img_array = []\n",
        "  for i in range(len(img)):\n",
        "    for j in range(len(img[0])):\n",
        "      color_values = img[i][j]\n",
        "      img_array.append(color_values[0])\n",
        "      img_array.append(color_values[1])\n",
        "      img_array.append(color_values[2])\n",
        "      \n",
        "  return img_array\n"
      ],
      "metadata": {
        "id": "QK_26h_pD8Lo"
      },
      "execution_count": 9,
      "outputs": []
    },
    {
      "cell_type": "code",
      "source": [
        "del street_imgs\n",
        "del sea_imgs\n",
        "del glacier_imgs\n",
        "del mountain_imgs"
      ],
      "metadata": {
        "id": "BwKeWilHXESQ"
      },
      "execution_count": 10,
      "outputs": []
    },
    {
      "cell_type": "code",
      "source": [
        "for i in range(len(all_data)):\n",
        "  all_data[i] = unroll_image(all_data[i])"
      ],
      "metadata": {
        "id": "cy8pHLDSYV1X"
      },
      "execution_count": 11,
      "outputs": []
    },
    {
      "cell_type": "code",
      "source": [
        "all_data_unrolled = all_data"
      ],
      "metadata": {
        "id": "ebviAVUgsuiG"
      },
      "execution_count": 12,
      "outputs": []
    },
    {
      "cell_type": "code",
      "source": [
        "dims = len(all_data_unrolled[0])\n",
        "for imgarray in all_data_unrolled:\n",
        "  assert(len(imgarray) == dims)"
      ],
      "metadata": {
        "id": "mENhXEkSSDhV"
      },
      "execution_count": 13,
      "outputs": []
    },
    {
      "cell_type": "code",
      "source": [
        "def train_test_split(data, labels, pct):\n",
        "  mapping = shuffle([*range(len(labels))], random_state=0)\n",
        "  new_data = []\n",
        "  new_labels = []\n",
        "\n",
        "  for i in range(len(mapping)):\n",
        "    new_data.append(data[mapping[i]])\n",
        "    new_labels.append(labels[mapping[i]])\n",
        "\n",
        "  split_idx = int(len(data)*pct)\n",
        "  return new_data[split_idx:], new_labels[split_idx:], new_data[:split_idx], new_labels[:split_idx]"
      ],
      "metadata": {
        "id": "WgV25SEGNBKA"
      },
      "execution_count": 14,
      "outputs": []
    },
    {
      "cell_type": "code",
      "source": [
        "train_X, train_y, test_X, test_y = train_test_split(all_data_unrolled, all_labels, 0.1)"
      ],
      "metadata": {
        "id": "-hxAyWSDOpFn"
      },
      "execution_count": 15,
      "outputs": []
    },
    {
      "cell_type": "code",
      "source": [
        "train_X = np.vstack(train_X)"
      ],
      "metadata": {
        "id": "bmJcx99BPYGD"
      },
      "execution_count": 16,
      "outputs": []
    },
    {
      "cell_type": "markdown",
      "source": [
        "## Exploratory Data Analysis"
      ],
      "metadata": {
        "id": "jUQeRLswtuZN"
      }
    },
    {
      "cell_type": "code",
      "source": [
        "def plot_classes(labels, app):\n",
        "  counts = Counter(labels)\n",
        "  label_names = list(map(lambda x: id_map[x], counts.keys()))\n",
        "  label_counts = counts.values()\n",
        "\n",
        "  plt.bar(label_names, label_counts, color ='blue',\n",
        "          width = 0.4)\n",
        "  \n",
        "  plt.xlabel(\"Class\")\n",
        "  plt.ylabel(\"Count\")\n",
        "  plt.title(\"Distribution of Classes \" + app)\n",
        "  plt.show()\n",
        "\n",
        "plot_classes(all_labels, \"\")\n",
        "plot_classes(train_y, \"(Training)\")\n",
        "plot_classes(test_y, \"(Testing)\")"
      ],
      "metadata": {
        "colab": {
          "base_uri": "https://localhost:8080/",
          "height": 851
        },
        "id": "9AzhWyPctzpt",
        "outputId": "9c72666f-db5f-4ea5-8346-ac5fb4478fd6"
      },
      "execution_count": 17,
      "outputs": [
        {
          "output_type": "display_data",
          "data": {
            "text/plain": [
              "<Figure size 432x288 with 1 Axes>"
            ],
            "image/png": "[encoded data removed]"
          },
          "metadata": {
            "needs_background": "light"
          }
        },
        {
          "output_type": "display_data",
          "data": {
            "text/plain": [
              "<Figure size 432x288 with 1 Axes>"
            ],
            "image/png": "[encoded data removed]"
          },
          "metadata": {
            "needs_background": "light"
          }
        },
        {
          "output_type": "display_data",
          "data": {
            "text/plain": [
              "<Figure size 432x288 with 1 Axes>"
            ],
            "image/png": "[encoded data removed]"
          },
          "metadata": {
            "needs_background": "light"
          }
        }
      ]
    },
    {
      "cell_type": "markdown",
      "source": [
        "The distribution of classes is balanced well enough that we don't have to worry about majority bias. Something that might be interesting is the distribution of individual classes in terms of RGB channels, as this might affect how well they are clustered."
      ],
      "metadata": {
        "id": "fK52L0Mou59B"
      }
    },
    {
      "cell_type": "code",
      "source": [
        "rgb_counter = dict()\n",
        "counts = Counter(all_labels)"
      ],
      "metadata": {
        "id": "_MRLnOGOUiJy"
      },
      "execution_count": 18,
      "outputs": []
    },
    {
      "cell_type": "code",
      "source": [
        "for item in counts.keys():\n",
        "  rgb_counter[item] = [0,0,0]\n",
        "\n",
        "for i in range(len(all_data)):\n",
        "  for j in range(0, len(all_data[i]) - 3, 3):\n",
        "    rgb_counter[all_labels[i]][j % 3] += all_data[i][j]\n",
        "    rgb_counter[all_labels[i]][(j + 1) % 3] += all_data[i][j + 1]\n",
        "    rgb_counter[all_labels[i]][(j + 2) % 3] += all_data[i][j + 2]\n",
        "\n",
        "#average the results\n",
        "for item in rgb_counter.keys():\n",
        "  for i in range(3):\n",
        "    rgb_counter[item][i] /= counts[item]"
      ],
      "metadata": {
        "id": "yUMApggXvKDt"
      },
      "execution_count": 19,
      "outputs": []
    },
    {
      "cell_type": "code",
      "source": [
        "for item in rgb_counter.keys():\n",
        "  for i in range(3):\n",
        "    rgb_counter[item][i] /= 100*100"
      ],
      "metadata": {
        "id": "aM0_KjQB557c"
      },
      "execution_count": 20,
      "outputs": []
    },
    {
      "cell_type": "code",
      "source": [
        "graph_labels = [id_map[x] for x in counts.keys()]\n",
        "nR = [rgb_counter[x][0] for x in counts.keys()]\n",
        "nG = [rgb_counter[x][1] for x in counts.keys()]\n",
        "nB = [rgb_counter[x][2] for x in counts.keys()]\n",
        "  \n",
        "X_axis = np.arange(len(graph_labels))\n",
        "  \n",
        "plt.bar(X_axis, nR, 0.2, label = 'R', color='red')\n",
        "plt.bar(X_axis + 0.2, nG, 0.2, label = 'G', color='green')\n",
        "plt.bar(X_axis + 0.4, nB, 0.2, label = 'B', color='blue')\n",
        "\n",
        "plt.xticks(X_axis, graph_labels)\n",
        "plt.xlabel(\"Classes\")\n",
        "plt.ylabel(\"Value\")\n",
        "plt.title(\"Average RGB Channel Values by Class\")\n",
        "plt.legend()\n",
        "plt.show()"
      ],
      "metadata": {
        "colab": {
          "base_uri": "https://localhost:8080/",
          "height": 295
        },
        "id": "1hroyEOF4flo",
        "outputId": "2b0b2307-10b0-4f86-b8dd-693e98247fb8"
      },
      "execution_count": 21,
      "outputs": [
        {
          "output_type": "display_data",
          "data": {
            "text/plain": [
              "<Figure size 432x288 with 1 Axes>"
            ],
            "image/png": "[encoded data removed]"
          },
          "metadata": {
            "needs_background": "light"
          }
        }
      ]
    },
    {
      "cell_type": "markdown",
      "source": [
        "Clearly there is noticeable variation in the RGB channels of each class of images. This should mean that they are somewhat easier to distinguish. However, most of them have a similar pattern of R < G < B, which may be confusing for the clustering algorithms."
      ],
      "metadata": {
        "id": "DW4Cx6Lc5uXk"
      }
    },
    {
      "cell_type": "markdown",
      "source": [
        "## Model Building and Training"
      ],
      "metadata": {
        "id": "TyVLaPqi_2fD"
      }
    },
    {
      "cell_type": "code",
      "source": [
        "def acc(x_actual, y_pred):\n",
        "  nc = 0\n",
        "\n",
        "  for i in range(len(x_actual)):\n",
        "    if x_actual[i] == y_pred[i]:\n",
        "      nc += 1\n",
        "\n",
        "  return nc/len(x_actual)"
      ],
      "metadata": {
        "id": "bpmgVSxKAGPH"
      },
      "execution_count": 22,
      "outputs": []
    },
    {
      "cell_type": "code",
      "source": [
        "def best_mapping(x_actual, y_pred):\n",
        "  best = None\n",
        "  bestacc = 0\n",
        "\n",
        "  maps = list(itertools.permutations(list(counts.keys())))\n",
        "\n",
        "  for mapping in maps:\n",
        "    tmp = [0, 1] + list(mapping)\n",
        "    try_labels = [tmp[x + 2] for x in y_pred]\n",
        "    map_acc = acc(x_actual, try_labels)\n",
        "\n",
        "    if map_acc > bestacc:\n",
        "      bestacc = map_acc\n",
        "      best = mapping\n",
        "\n",
        "  return bestacc, list(best)"
      ],
      "metadata": {
        "id": "2_H5DcWJArsl"
      },
      "execution_count": 59,
      "outputs": []
    },
    {
      "cell_type": "code",
      "source": [
        "kmeans = KMeans(n_clusters=4, random_state=0, n_init=\"auto\").fit(train_X)"
      ],
      "metadata": {
        "id": "0YOo5JHq-vcK"
      },
      "execution_count": 54,
      "outputs": []
    },
    {
      "cell_type": "code",
      "source": [
        "accuracy, mapping = best_mapping(train_y, kmeans.labels_)"
      ],
      "metadata": {
        "id": "bkipJp1pDlvD"
      },
      "execution_count": 64,
      "outputs": []
    },
    {
      "cell_type": "code",
      "source": [
        "accuracy"
      ],
      "metadata": {
        "colab": {
          "base_uri": "https://localhost:8080/"
        },
        "id": "gc9PDM5pHb2k",
        "outputId": "67136dc5-c285-4476-b4f0-7b3d135d7592"
      },
      "execution_count": 65,
      "outputs": [
        {
          "output_type": "execute_result",
          "data": {
            "text/plain": [
              "0.26012768427161925"
            ]
          },
          "metadata": {},
          "execution_count": 65
        }
      ]
    },
    {
      "cell_type": "code",
      "source": [
        "mapping = [0, 0] + mapping"
      ],
      "metadata": {
        "id": "S2bbH4K0csKJ"
      },
      "execution_count": 66,
      "outputs": []
    },
    {
      "cell_type": "code",
      "source": [
        "kmeans_pred = kmeans.predict(test_X)\n",
        "kmeans_pred = [mapping[x + 2] for x in kmeans_pred]\n",
        "test_accuracy = acc(test_y, kmeans_pred)"
      ],
      "metadata": {
        "id": "uArkd_Fickyo"
      },
      "execution_count": 86,
      "outputs": []
    },
    {
      "cell_type": "code",
      "source": [
        "test_accuracy"
      ],
      "metadata": {
        "colab": {
          "base_uri": "https://localhost:8080/"
        },
        "id": "dBF8zGG-emEM",
        "outputId": "38f22701-2abf-48d5-a089-575352baaa8f"
      },
      "execution_count": 87,
      "outputs": [
        {
          "output_type": "execute_result",
          "data": {
            "text/plain": [
              "0.2361546499477534"
            ]
          },
          "metadata": {},
          "execution_count": 87
        }
      ]
    },
    {
      "cell_type": "code",
      "source": [
        "kmeans_cm = confusion_matrix(test_y, kmeans_pred)"
      ],
      "metadata": {
        "id": "llxz47u1eo8f"
      },
      "execution_count": 71,
      "outputs": []
    },
    {
      "cell_type": "markdown",
      "source": [
        "We can see the classification accuracy above. One thing to consider here is that sklearn KMeans does not have a parameter for distance metric."
      ],
      "metadata": {
        "id": "NuaKosc3Obw0"
      }
    },
    {
      "cell_type": "code",
      "source": [
        "kmedoids = KMedoids(n_clusters=4, random_state=0, init='k-medoids++').fit(train_X)"
      ],
      "metadata": {
        "id": "GqJozUayPcyy"
      },
      "execution_count": 50,
      "outputs": []
    },
    {
      "cell_type": "code",
      "source": [
        "accuracy, mapping = best_mapping(train_y, kmedoids.labels_)\n",
        "mapping = [0, 0] + mapping"
      ],
      "metadata": {
        "id": "YiX8KT0CVTnk"
      },
      "execution_count": 73,
      "outputs": []
    },
    {
      "cell_type": "code",
      "source": [
        "accuracy"
      ],
      "metadata": {
        "colab": {
          "base_uri": "https://localhost:8080/"
        },
        "id": "JJDb8Oy4S0Tg",
        "outputId": "b1823d46-0c63-4bfa-948c-9d1c9e255552"
      },
      "execution_count": 74,
      "outputs": [
        {
          "output_type": "execute_result",
          "data": {
            "text/plain": [
              "0.2747533372025537"
            ]
          },
          "metadata": {},
          "execution_count": 74
        }
      ]
    },
    {
      "cell_type": "code",
      "source": [
        "kmedoids_pred = kmedoids.predict(test_X)\n",
        "kmedoids_pred = [mapping[x + 2] for x in kmedoids_pred]\n",
        "test_accuracy = acc(test_y, kmedoids_pred)"
      ],
      "metadata": {
        "id": "N9s3fKMqYASF"
      },
      "execution_count": 88,
      "outputs": []
    },
    {
      "cell_type": "code",
      "source": [
        "test_accuracy"
      ],
      "metadata": {
        "colab": {
          "base_uri": "https://localhost:8080/"
        },
        "id": "J4vZNp7RfGE_",
        "outputId": "7c765c69-b62f-464c-c785-a06e79702484"
      },
      "execution_count": 89,
      "outputs": [
        {
          "output_type": "execute_result",
          "data": {
            "text/plain": [
              "0.26854754440961337"
            ]
          },
          "metadata": {},
          "execution_count": 89
        }
      ]
    },
    {
      "cell_type": "code",
      "source": [
        "kmedoids_cm = confusion_matrix(test_y, kmedoids_pred)"
      ],
      "metadata": {
        "id": "Jxt2uGYafIzx"
      },
      "execution_count": 77,
      "outputs": []
    },
    {
      "cell_type": "markdown",
      "source": [
        "## Result"
      ],
      "metadata": {
        "id": "ISkxrqacfVAC"
      }
    },
    {
      "cell_type": "markdown",
      "source": [
        "K-Means"
      ],
      "metadata": {
        "id": "5SAR9aJXfXoE"
      }
    },
    {
      "cell_type": "code",
      "source": [
        "plt.imshow(kmeans_cm)\n",
        "plt.xticks([])\n",
        "plt.yticks([])\n",
        "plt.colorbar();\n",
        "print(\"Test Accuracy: 0.24\")"
      ],
      "metadata": {
        "colab": {
          "base_uri": "https://localhost:8080/",
          "height": 271
        },
        "id": "BHzeimeIfZLW",
        "outputId": "608342ab-251b-4608-bf4b-dcc388a2d456"
      },
      "execution_count": 80,
      "outputs": [
        {
          "output_type": "stream",
          "name": "stdout",
          "text": [
            "Test Accuracy: 0.24\n"
          ]
        },
        {
          "output_type": "display_data",
          "data": {
            "text/plain": [
              "<Figure size 432x288 with 2 Axes>"
            ],
            "image/png": "[encoded data removed]"
          },
          "metadata": {
            "needs_background": "light"
          }
        }
      ]
    },
    {
      "cell_type": "markdown",
      "source": [
        "K-Medoids"
      ],
      "metadata": {
        "id": "qLafFGRnfvPl"
      }
    },
    {
      "cell_type": "code",
      "source": [
        "plt.imshow(kmedoids_cm)\n",
        "plt.xticks([])\n",
        "plt.yticks([])\n",
        "plt.colorbar();\n",
        "print(\"Test Accuracy: 0.27\")"
      ],
      "metadata": {
        "colab": {
          "base_uri": "https://localhost:8080/",
          "height": 273
        },
        "id": "Y3d4H3t5fxL2",
        "outputId": "f4feb5a5-7041-4bef-c529-a45aa9389f07"
      },
      "execution_count": 81,
      "outputs": [
        {
          "output_type": "stream",
          "name": "stdout",
          "text": [
            "Test Accuracy: 0.27\n"
          ]
        },
        {
          "output_type": "display_data",
          "data": {
            "text/plain": [
              "<Figure size 432x288 with 2 Axes>"
            ],
            "image/png": "[encoded data removed]"
          },
          "metadata": {
            "needs_background": "light"
          }
        }
      ]
    },
    {
      "cell_type": "markdown",
      "source": [
        "## Conclusion"
      ],
      "metadata": {
        "id": "4svDYsVff7Po"
      }
    },
    {
      "cell_type": "markdown",
      "source": [
        "Both K-Means and K-Medoids performed poorly on the image dataset. K-Medoids performed slightly better but based on the confusion matrices we can see that neither has classification ability using this approach. Both clustering methods were set to k-means++ initialization methods which improve clustering quality. It's difficult to tell what exactly enabled K-Medoids to perform slightly better. K-Means minimizes total squared error, K-Medoids minimizes dissimilarity between cluster members and their respective medoids. A few possibilities for improvement are to use transfer learning to generate the features, instead of using the raw RGB channel values that have been normalized, but the images had to be downsized due to hardware constraints, which probably also negatively affected the representation of their original feature values due to interpolation."
      ],
      "metadata": {
        "id": "q8NHFpXPgC5U"
      }
    }
  ]
}